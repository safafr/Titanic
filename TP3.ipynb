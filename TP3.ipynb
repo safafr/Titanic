{
 "cells": [
  {
   "cell_type": "markdown",
   "metadata": {},
   "source": [
    " \n",
    "![img](Titanic/images.png)\n",
    "<H1>TP3 Analyse de données<H1>"
   ]
  },
  {
   "cell_type": "markdown",
   "metadata": {},
   "source": [
    "## Contexte\n",
    "    \n",
    "Dans ce TP, nous utiliserons l'exemple du jeu de données du Titanic, un énorme paquebot pour l'époque qui fait naufrage en 1912 à la suite d'une collision avec un iceberg, lors de son voyage inaugural de Southampton à New York.\n",
    "   * Nous avons accès à des informations sur une partie des passagers (1309 passagers) du Titanic. \n",
    "   * Pourquoi certains passagers ont survécu et d'autres sont morts?\n",
    "   * Commencons l'analyse de données\n",
    "   \n",
    "![img](Titanic/titanic.jpeg)\n"
   ]
  },
  {
   "cell_type": "markdown",
   "metadata": {},
   "source": [
    "## Chargement des données\n",
    "Les données sont dans un tableau au format CSV (comma separated values):"
   ]
  },
  {
   "cell_type": "code",
   "execution_count": 1,
   "metadata": {},
   "outputs": [],
   "source": [
    "import pandas as pd\n",
    "import numpy as np\n",
    "\n",
    "titanic = pd.read_csv('../TP3/Titanic/titanic.csv')"
   ]
  },
  {
   "cell_type": "markdown",
   "metadata": {},
   "source": [
    "Ensuite, on OBSERVE ce qu’on a!!"
   ]
  },
  {
   "cell_type": "code",
   "execution_count": 2,
   "metadata": {
    "scrolled": true
   },
   "outputs": [
    {
     "data": {
      "text/html": [
       "<div>\n",
       "<style scoped>\n",
       "    .dataframe tbody tr th:only-of-type {\n",
       "        vertical-align: middle;\n",
       "    }\n",
       "\n",
       "    .dataframe tbody tr th {\n",
       "        vertical-align: top;\n",
       "    }\n",
       "\n",
       "    .dataframe thead th {\n",
       "        text-align: right;\n",
       "    }\n",
       "</style>\n",
       "<table border=\"1\" class=\"dataframe\">\n",
       "  <thead>\n",
       "    <tr style=\"text-align: right;\">\n",
       "      <th></th>\n",
       "      <th>PassengerId</th>\n",
       "      <th>Survived</th>\n",
       "      <th>Pclass</th>\n",
       "      <th>Name</th>\n",
       "      <th>Sex</th>\n",
       "      <th>Age</th>\n",
       "      <th>SibSp</th>\n",
       "      <th>Parch</th>\n",
       "      <th>Ticket</th>\n",
       "      <th>Fare</th>\n",
       "      <th>Cabin</th>\n",
       "      <th>Embarked</th>\n",
       "    </tr>\n",
       "  </thead>\n",
       "  <tbody>\n",
       "    <tr>\n",
       "      <th>0</th>\n",
       "      <td>1</td>\n",
       "      <td>0.0</td>\n",
       "      <td>3</td>\n",
       "      <td>Braund, Mr. Owen Harris</td>\n",
       "      <td>male</td>\n",
       "      <td>22.0</td>\n",
       "      <td>1</td>\n",
       "      <td>0</td>\n",
       "      <td>A/5 21171</td>\n",
       "      <td>7.2500</td>\n",
       "      <td>NaN</td>\n",
       "      <td>S</td>\n",
       "    </tr>\n",
       "    <tr>\n",
       "      <th>1</th>\n",
       "      <td>2</td>\n",
       "      <td>1.0</td>\n",
       "      <td>1</td>\n",
       "      <td>Cumings, Mrs. John Bradley (Florence Briggs Th...</td>\n",
       "      <td>female</td>\n",
       "      <td>38.0</td>\n",
       "      <td>1</td>\n",
       "      <td>0</td>\n",
       "      <td>PC 17599</td>\n",
       "      <td>71.2833</td>\n",
       "      <td>C85</td>\n",
       "      <td>C</td>\n",
       "    </tr>\n",
       "    <tr>\n",
       "      <th>2</th>\n",
       "      <td>3</td>\n",
       "      <td>1.0</td>\n",
       "      <td>3</td>\n",
       "      <td>Heikkinen, Miss. Laina</td>\n",
       "      <td>female</td>\n",
       "      <td>26.0</td>\n",
       "      <td>0</td>\n",
       "      <td>0</td>\n",
       "      <td>STON/O2. 3101282</td>\n",
       "      <td>7.9250</td>\n",
       "      <td>NaN</td>\n",
       "      <td>S</td>\n",
       "    </tr>\n",
       "    <tr>\n",
       "      <th>3</th>\n",
       "      <td>4</td>\n",
       "      <td>1.0</td>\n",
       "      <td>1</td>\n",
       "      <td>Futrelle, Mrs. Jacques Heath (Lily May Peel)</td>\n",
       "      <td>female</td>\n",
       "      <td>35.0</td>\n",
       "      <td>1</td>\n",
       "      <td>0</td>\n",
       "      <td>113803</td>\n",
       "      <td>53.1000</td>\n",
       "      <td>C123</td>\n",
       "      <td>S</td>\n",
       "    </tr>\n",
       "    <tr>\n",
       "      <th>4</th>\n",
       "      <td>5</td>\n",
       "      <td>0.0</td>\n",
       "      <td>3</td>\n",
       "      <td>Allen, Mr. William Henry</td>\n",
       "      <td>male</td>\n",
       "      <td>35.0</td>\n",
       "      <td>0</td>\n",
       "      <td>0</td>\n",
       "      <td>373450</td>\n",
       "      <td>8.0500</td>\n",
       "      <td>NaN</td>\n",
       "      <td>S</td>\n",
       "    </tr>\n",
       "    <tr>\n",
       "      <th>5</th>\n",
       "      <td>6</td>\n",
       "      <td>0.0</td>\n",
       "      <td>3</td>\n",
       "      <td>Moran, Mr. James</td>\n",
       "      <td>male</td>\n",
       "      <td>NaN</td>\n",
       "      <td>0</td>\n",
       "      <td>0</td>\n",
       "      <td>330877</td>\n",
       "      <td>8.4583</td>\n",
       "      <td>NaN</td>\n",
       "      <td>Q</td>\n",
       "    </tr>\n",
       "    <tr>\n",
       "      <th>6</th>\n",
       "      <td>7</td>\n",
       "      <td>0.0</td>\n",
       "      <td>1</td>\n",
       "      <td>McCarthy, Mr. Timothy J</td>\n",
       "      <td>male</td>\n",
       "      <td>54.0</td>\n",
       "      <td>0</td>\n",
       "      <td>0</td>\n",
       "      <td>17463</td>\n",
       "      <td>51.8625</td>\n",
       "      <td>E46</td>\n",
       "      <td>S</td>\n",
       "    </tr>\n",
       "    <tr>\n",
       "      <th>7</th>\n",
       "      <td>8</td>\n",
       "      <td>0.0</td>\n",
       "      <td>3</td>\n",
       "      <td>Palsson, Master. Gosta Leonard</td>\n",
       "      <td>male</td>\n",
       "      <td>2.0</td>\n",
       "      <td>3</td>\n",
       "      <td>1</td>\n",
       "      <td>349909</td>\n",
       "      <td>21.0750</td>\n",
       "      <td>NaN</td>\n",
       "      <td>S</td>\n",
       "    </tr>\n",
       "    <tr>\n",
       "      <th>8</th>\n",
       "      <td>9</td>\n",
       "      <td>1.0</td>\n",
       "      <td>3</td>\n",
       "      <td>Johnson, Mrs. Oscar W (Elisabeth Vilhelmina Berg)</td>\n",
       "      <td>female</td>\n",
       "      <td>27.0</td>\n",
       "      <td>0</td>\n",
       "      <td>2</td>\n",
       "      <td>347742</td>\n",
       "      <td>11.1333</td>\n",
       "      <td>NaN</td>\n",
       "      <td>S</td>\n",
       "    </tr>\n",
       "    <tr>\n",
       "      <th>9</th>\n",
       "      <td>10</td>\n",
       "      <td>1.0</td>\n",
       "      <td>2</td>\n",
       "      <td>Nasser, Mrs. Nicholas (Adele Achem)</td>\n",
       "      <td>female</td>\n",
       "      <td>14.0</td>\n",
       "      <td>1</td>\n",
       "      <td>0</td>\n",
       "      <td>237736</td>\n",
       "      <td>30.0708</td>\n",
       "      <td>NaN</td>\n",
       "      <td>C</td>\n",
       "    </tr>\n",
       "  </tbody>\n",
       "</table>\n",
       "</div>"
      ],
      "text/plain": [
       "   PassengerId  Survived  Pclass  \\\n",
       "0            1       0.0       3   \n",
       "1            2       1.0       1   \n",
       "2            3       1.0       3   \n",
       "3            4       1.0       1   \n",
       "4            5       0.0       3   \n",
       "5            6       0.0       3   \n",
       "6            7       0.0       1   \n",
       "7            8       0.0       3   \n",
       "8            9       1.0       3   \n",
       "9           10       1.0       2   \n",
       "\n",
       "                                                Name     Sex   Age  SibSp  \\\n",
       "0                            Braund, Mr. Owen Harris    male  22.0      1   \n",
       "1  Cumings, Mrs. John Bradley (Florence Briggs Th...  female  38.0      1   \n",
       "2                             Heikkinen, Miss. Laina  female  26.0      0   \n",
       "3       Futrelle, Mrs. Jacques Heath (Lily May Peel)  female  35.0      1   \n",
       "4                           Allen, Mr. William Henry    male  35.0      0   \n",
       "5                                   Moran, Mr. James    male   NaN      0   \n",
       "6                            McCarthy, Mr. Timothy J    male  54.0      0   \n",
       "7                     Palsson, Master. Gosta Leonard    male   2.0      3   \n",
       "8  Johnson, Mrs. Oscar W (Elisabeth Vilhelmina Berg)  female  27.0      0   \n",
       "9                Nasser, Mrs. Nicholas (Adele Achem)  female  14.0      1   \n",
       "\n",
       "   Parch            Ticket     Fare Cabin Embarked  \n",
       "0      0         A/5 21171   7.2500   NaN        S  \n",
       "1      0          PC 17599  71.2833   C85        C  \n",
       "2      0  STON/O2. 3101282   7.9250   NaN        S  \n",
       "3      0            113803  53.1000  C123        S  \n",
       "4      0            373450   8.0500   NaN        S  \n",
       "5      0            330877   8.4583   NaN        Q  \n",
       "6      0             17463  51.8625   E46        S  \n",
       "7      1            349909  21.0750   NaN        S  \n",
       "8      2            347742  11.1333   NaN        S  \n",
       "9      0            237736  30.0708   NaN        C  "
      ]
     },
     "execution_count": 2,
     "metadata": {},
     "output_type": "execute_result"
    }
   ],
   "source": [
    "titanic.head(10)"
   ]
  },
  {
   "cell_type": "code",
   "execution_count": 3,
   "metadata": {},
   "outputs": [
    {
     "data": {
      "text/plain": [
       "(1309, 12)"
      ]
     },
     "execution_count": 3,
     "metadata": {},
     "output_type": "execute_result"
    }
   ],
   "source": [
    "titanic.shape"
   ]
  },
  {
   "cell_type": "code",
   "execution_count": 5,
   "metadata": {},
   "outputs": [
    {
     "name": "stdout",
     "output_type": "stream",
     "text": [
      "<class 'pandas.core.frame.DataFrame'>\n",
      "RangeIndex: 1309 entries, 0 to 1308\n",
      "Data columns (total 12 columns):\n",
      " #   Column       Non-Null Count  Dtype  \n",
      "---  ------       --------------  -----  \n",
      " 0   PassengerId  1309 non-null   int64  \n",
      " 1   Survived     891 non-null    float64\n",
      " 2   Pclass       1309 non-null   int64  \n",
      " 3   Name         1309 non-null   object \n",
      " 4   Sex          1309 non-null   object \n",
      " 5   Age          1046 non-null   float64\n",
      " 6   SibSp        1309 non-null   int64  \n",
      " 7   Parch        1309 non-null   int64  \n",
      " 8   Ticket       1309 non-null   object \n",
      " 9   Fare         1308 non-null   float64\n",
      " 10  Cabin        295 non-null    object \n",
      " 11  Embarked     1307 non-null   object \n",
      "dtypes: float64(3), int64(4), object(5)\n",
      "memory usage: 122.8+ KB\n"
     ]
    }
   ],
   "source": [
    "#titanic.describe(include='all')  #statistique\n",
    "titanic.info()\n"
   ]
  },
  {
   "cell_type": "markdown",
   "metadata": {},
   "source": [
    "Les colonnes sont:\n",
    "\n",
    "* PassengerId : Passenger Id\n",
    "\n",
    "* Survived : True (1) / False (0)\n",
    "\n",
    "* Pclass : Passenger ticket class : Class 1, 2 and 3.\n",
    "\n",
    "* Name : Name of the passenger\n",
    "\n",
    "* Sex : Sex of the passenger male/female\n",
    "\n",
    "* Age : Age in years\n",
    "\n",
    "* Sibsp :\t# of siblings / spouses aboard the Titanic\t\n",
    "\n",
    "* Parch\t: # of parents / children aboard the Titanic\t\n",
    "\n",
    "* Ticket :\tTicket number\t\n",
    "\n",
    "* fare :\tPassenger fare\t\n",
    "\n",
    "* Cabin : Cabin number\n",
    "\n",
    "* Embarked : Embarkation port ( C : Cherbourg; Q Queenstown; S Southampton)"
   ]
  },
  {
   "cell_type": "markdown",
   "metadata": {},
   "source": [
    "## Question / Objectif\n",
    "<strong>Pourquoi certains passagers ont survécu et d’autres sont morts?<strong>"
   ]
  },
  {
   "cell_type": "markdown",
   "metadata": {},
   "source": [
    "On veut trouver les colonnes qui expliquent le 0/1 dans Survived et construire un modèle qui permettrait d’expliquer au mieux Survived étant donné nos informations.\n",
    "\n",
    "On va commencer par observer nos données, en répondant à des questions descriptives:\n",
    "1. Quel sexe a le plus de chances de survie ?\n",
    "2. Est-ce que les enfants ont eu plus de chances de survie ?\n",
    "3. Calculer la proportion de survie selon le port d'embarquement."
   ]
  },
  {
   "cell_type": "markdown",
   "metadata": {},
   "source": [
    "### Etape 1: Supprimer les NAN de la colonnes \"Survived\"\n",
    "La colonne \"Survived\" a des valeurs manquantes (891 disponibles/1309). Comme la plupart des passagers et passagères sont mort, on peut supposer que Survived =0.\n",
    "\n",
    "Attention ceci est un choix. Toujours garder en tête qu’il modifie vos résultats et peut donc modifier vos interpétations ! Ici, c’est vraiment à la marge"
   ]
  },
  {
   "cell_type": "code",
   "execution_count": 8,
   "metadata": {},
   "outputs": [],
   "source": [
    "titanic[\"Survived\"] = titanic[\"Survived\"].fillna(0.0)# ay champs vide fl survived hatina fih 0\n",
    "#titanic.info()"
   ]
  },
  {
   "cell_type": "markdown",
   "metadata": {},
   "source": [
    "### Quel sexe a le plus de chances de survie ?\n",
    "* Comparaison de la proportion d’hommes et de femmes passagers du Titanic qui ont survécu\n",
    "\n",
    "* Utilisons groupby, qui permet de produire des tables de synthèses par catégories:"
   ]
  },
  {
   "cell_type": "code",
   "execution_count": 9,
   "metadata": {},
   "outputs": [
    {
     "data": {
      "text/plain": [
       "Sex     Survived\n",
       "female  0.0         233\n",
       "        1.0         233\n",
       "male    0.0         734\n",
       "        1.0         109\n",
       "Name: PassengerId, dtype: int64"
      ]
     },
     "execution_count": 9,
     "metadata": {},
     "output_type": "execute_result"
    }
   ],
   "source": [
    "titanic.groupby(['Sex','Survived']).count()['PassengerId']"
   ]
  },
  {
   "cell_type": "markdown",
   "metadata": {},
   "source": [
    "#### Autres tables de synthèse"
   ]
  },
  {
   "cell_type": "code",
   "execution_count": 10,
   "metadata": {},
   "outputs": [
    {
     "data": {
      "text/plain": [
       "Sex\n",
       "female    466\n",
       "male      843\n",
       "Name: PassengerId, dtype: int64"
      ]
     },
     "execution_count": 10,
     "metadata": {},
     "output_type": "execute_result"
    }
   ],
   "source": [
    "passengers = titanic.groupby('Sex')['PassengerId'].count()\n",
    "passengers"
   ]
  },
  {
   "cell_type": "code",
   "execution_count": 11,
   "metadata": {},
   "outputs": [
    {
     "data": {
      "text/plain": [
       "Sex\n",
       "female    233.0\n",
       "male      109.0\n",
       "Name: Survived, dtype: float64"
      ]
     },
     "execution_count": 11,
     "metadata": {},
     "output_type": "execute_result"
    }
   ],
   "source": [
    "survivors = titanic.groupby('Sex')['Survived'].sum()\n",
    "survivors"
   ]
  },
  {
   "cell_type": "code",
   "execution_count": 12,
   "metadata": {},
   "outputs": [
    {
     "data": {
      "text/html": [
       "<div>\n",
       "<style scoped>\n",
       "    .dataframe tbody tr th:only-of-type {\n",
       "        vertical-align: middle;\n",
       "    }\n",
       "\n",
       "    .dataframe tbody tr th {\n",
       "        vertical-align: top;\n",
       "    }\n",
       "\n",
       "    .dataframe thead th {\n",
       "        text-align: right;\n",
       "    }\n",
       "</style>\n",
       "<table border=\"1\" class=\"dataframe\">\n",
       "  <thead>\n",
       "    <tr style=\"text-align: right;\">\n",
       "      <th></th>\n",
       "      <th>Survivants</th>\n",
       "      <th>Passagers</th>\n",
       "      <th>%</th>\n",
       "    </tr>\n",
       "    <tr>\n",
       "      <th>Sex</th>\n",
       "      <th></th>\n",
       "      <th></th>\n",
       "      <th></th>\n",
       "    </tr>\n",
       "  </thead>\n",
       "  <tbody>\n",
       "    <tr>\n",
       "      <th>female</th>\n",
       "      <td>233.0</td>\n",
       "      <td>466</td>\n",
       "      <td>50.0</td>\n",
       "    </tr>\n",
       "    <tr>\n",
       "      <th>male</th>\n",
       "      <td>109.0</td>\n",
       "      <td>843</td>\n",
       "      <td>12.9</td>\n",
       "    </tr>\n",
       "  </tbody>\n",
       "</table>\n",
       "</div>"
      ],
      "text/plain": [
       "        Survivants  Passagers     %\n",
       "Sex                                \n",
       "female       233.0        466  50.0\n",
       "male         109.0        843  12.9"
      ]
     },
     "execution_count": 12,
     "metadata": {},
     "output_type": "execute_result"
    }
   ],
   "source": [
    "summary = pd.DataFrame({\"Survivants\": survivors,\n",
    "                        \"Passagers\": passengers,\n",
    "                        \"%\": round(100*survivors / passengers,1)})\n",
    "summary"
   ]
  },
  {
   "cell_type": "markdown",
   "metadata": {},
   "source": [
    "#### Visualisation"
   ]
  },
  {
   "cell_type": "code",
   "execution_count": 14,
   "metadata": {},
   "outputs": [
    {
     "name": "stdout",
     "output_type": "stream",
     "text": [
      "Collecting matplotlib\n",
      "  Downloading matplotlib-3.6.1-cp310-cp310-win_amd64.whl (7.2 MB)\n",
      "     ---------------------------------------- 7.2/7.2 MB 2.9 MB/s eta 0:00:00\n",
      "Requirement already satisfied: pyparsing>=2.2.1 in c:\\users\\lenovo\\appdata\\roaming\\python\\python310\\site-packages (from matplotlib) (3.0.9)\n",
      "Collecting kiwisolver>=1.0.1\n",
      "  Downloading kiwisolver-1.4.4-cp310-cp310-win_amd64.whl (55 kB)\n",
      "     ---------------------------------------- 55.3/55.3 kB ? eta 0:00:00\n",
      "Collecting fonttools>=4.22.0\n",
      "  Downloading fonttools-4.37.4-py3-none-any.whl (960 kB)\n",
      "     ------------------------------------- 960.8/960.8 kB 10.1 MB/s eta 0:00:00\n",
      "Collecting pillow>=6.2.0\n",
      "  Downloading Pillow-9.2.0-cp310-cp310-win_amd64.whl (3.3 MB)\n",
      "     ---------------------------------------- 3.3/3.3 MB 2.5 MB/s eta 0:00:00\n",
      "Requirement already satisfied: numpy>=1.19 in c:\\users\\lenovo\\appdata\\local\\programs\\python\\python310\\lib\\site-packages (from matplotlib) (1.23.3)\n",
      "Requirement already satisfied: python-dateutil>=2.7 in c:\\users\\lenovo\\appdata\\roaming\\python\\python310\\site-packages (from matplotlib) (2.8.2)\n",
      "Collecting cycler>=0.10\n",
      "  Downloading cycler-0.11.0-py3-none-any.whl (6.4 kB)\n",
      "Collecting contourpy>=1.0.1\n",
      "  Downloading contourpy-1.0.5-cp310-cp310-win_amd64.whl (164 kB)\n",
      "     ------------------------------------- 164.1/164.1 kB 10.3 MB/s eta 0:00:00\n",
      "Requirement already satisfied: packaging>=20.0 in c:\\users\\lenovo\\appdata\\roaming\\python\\python310\\site-packages (from matplotlib) (21.3)\n",
      "Requirement already satisfied: six>=1.5 in c:\\users\\lenovo\\appdata\\roaming\\python\\python310\\site-packages (from python-dateutil>=2.7->matplotlib) (1.16.0)\n",
      "Installing collected packages: pillow, kiwisolver, fonttools, cycler, contourpy, matplotlib\n",
      "Successfully installed contourpy-1.0.5 cycler-0.11.0 fonttools-4.37.4 kiwisolver-1.4.4 matplotlib-3.6.1 pillow-9.2.0\n",
      "Note: you may need to restart the kernel to use updated packages.\n"
     ]
    }
   ],
   "source": [
    "pip install matplotlib"
   ]
  },
  {
   "cell_type": "code",
   "execution_count": 15,
   "metadata": {},
   "outputs": [
    {
     "data": {
      "image/png": "[encoded data removed]",
      "text/plain": [
       "<Figure size 640x480 with 1 Axes>"
      ]
     },
     "metadata": {},
     "output_type": "display_data"
    }
   ],
   "source": [
    "import matplotlib.pyplot as plt\n",
    "summary[[\"Survivants\", \"Passagers\"]].plot(kind='bar');"
   ]
  },
  {
   "cell_type": "markdown",
   "metadata": {},
   "source": [
    "Le même graphique, avec titre et labels:"
   ]
  },
  {
   "cell_type": "code",
   "execution_count": 16,
   "metadata": {},
   "outputs": [
    {
     "data": {
      "image/png": "[encoded data removed]",
      "text/plain": [
       "<Figure size 640x480 with 1 Axes>"
      ]
     },
     "metadata": {},
     "output_type": "display_data"
    }
   ],
   "source": [
    "summary[[\"Survivants\", \"Passagers\"]].plot(kind='bar');\n",
    "plt.xlabel('Sexe')\n",
    "plt.ylabel('Total')\n",
    "plt.title('Comparaison de la survie selon le sexe');"
   ]
  },
  {
   "cell_type": "markdown",
   "metadata": {},
   "source": [
    "#### Conclution\n",
    "* Observation :\n",
    "\n",
    "  * 26.1% des passengers ont survécus dont 50% des femmes contre seulement 12.9% des hommes\n",
    "\n",
    "  * Il y a plus d’hommes que de femmes sur le paquebot\n",
    "\n",
    "* Interprétation : Les femmes ont eu plus de chances de survivre que les hommes\n",
    "\n",
    "Pour aller plus loin, on pourrait regarder à quel age les hommes et femmes avaient la plus grande chance de survie."
   ]
  },
  {
   "cell_type": "markdown",
   "metadata": {},
   "source": [
    "### Est-ce que les enfants ont eu plus de chances de survie ?\n",
    "* On va commencer par séparer les enfants des adultes selon l’age. Problème, on a des données manquantes."
   ]
  },
  {
   "cell_type": "markdown",
   "metadata": {},
   "source": [
    "#### Gestion des données manquantes\n",
    "Il manque certaines informations. Que feriez-vous ?\n",
    "\n",
    "On pourrait décider de supprimer les individus sans informations sur l’âge (pensez à vérifier les dimensions de votre table!)"
   ]
  },
  {
   "cell_type": "code",
   "execution_count": 17,
   "metadata": {},
   "outputs": [
    {
     "name": "stdout",
     "output_type": "stream",
     "text": [
      "Si j'enlève toutes les lignes contenant un 'NaN':  (270, 12)\n",
      "\n",
      "Si je n'enlève que les 'NaN' de la colonne Age :  (1046, 12)\n"
     ]
    }
   ],
   "source": [
    "print(\"Si j'enlève toutes les lignes contenant un 'NaN': \", titanic.dropna().shape)\n",
    "titanic_filt_age = titanic.loc[titanic['Age'].notna(),:]\n",
    "print(\"\\nSi je n'enlève que les 'NaN' de la colonne Age : \", titanic_filt_age.shape)"
   ]
  },
  {
   "cell_type": "markdown",
   "metadata": {},
   "source": [
    "Maintenant on va créer une nouvelle colonne indiquant si l’on est adulte"
   ]
  },
  {
   "cell_type": "code",
   "execution_count": 18,
   "metadata": {},
   "outputs": [
    {
     "data": {
      "text/html": [
       "<div>\n",
       "<style scoped>\n",
       "    .dataframe tbody tr th:only-of-type {\n",
       "        vertical-align: middle;\n",
       "    }\n",
       "\n",
       "    .dataframe tbody tr th {\n",
       "        vertical-align: top;\n",
       "    }\n",
       "\n",
       "    .dataframe thead th {\n",
       "        text-align: right;\n",
       "    }\n",
       "</style>\n",
       "<table border=\"1\" class=\"dataframe\">\n",
       "  <thead>\n",
       "    <tr style=\"text-align: right;\">\n",
       "      <th></th>\n",
       "      <th>PassengerId</th>\n",
       "      <th>Survived</th>\n",
       "      <th>Pclass</th>\n",
       "      <th>Name</th>\n",
       "      <th>Sex</th>\n",
       "      <th>Age</th>\n",
       "      <th>SibSp</th>\n",
       "      <th>Parch</th>\n",
       "      <th>Ticket</th>\n",
       "      <th>Fare</th>\n",
       "      <th>Cabin</th>\n",
       "      <th>Embarked</th>\n",
       "      <th>Adult</th>\n",
       "    </tr>\n",
       "  </thead>\n",
       "  <tbody>\n",
       "    <tr>\n",
       "      <th>0</th>\n",
       "      <td>1</td>\n",
       "      <td>0.0</td>\n",
       "      <td>3</td>\n",
       "      <td>Braund, Mr. Owen Harris</td>\n",
       "      <td>male</td>\n",
       "      <td>22.0</td>\n",
       "      <td>1</td>\n",
       "      <td>0</td>\n",
       "      <td>A/5 21171</td>\n",
       "      <td>7.2500</td>\n",
       "      <td>NaN</td>\n",
       "      <td>S</td>\n",
       "      <td>True</td>\n",
       "    </tr>\n",
       "    <tr>\n",
       "      <th>1</th>\n",
       "      <td>2</td>\n",
       "      <td>1.0</td>\n",
       "      <td>1</td>\n",
       "      <td>Cumings, Mrs. John Bradley (Florence Briggs Th...</td>\n",
       "      <td>female</td>\n",
       "      <td>38.0</td>\n",
       "      <td>1</td>\n",
       "      <td>0</td>\n",
       "      <td>PC 17599</td>\n",
       "      <td>71.2833</td>\n",
       "      <td>C85</td>\n",
       "      <td>C</td>\n",
       "      <td>True</td>\n",
       "    </tr>\n",
       "    <tr>\n",
       "      <th>2</th>\n",
       "      <td>3</td>\n",
       "      <td>1.0</td>\n",
       "      <td>3</td>\n",
       "      <td>Heikkinen, Miss. Laina</td>\n",
       "      <td>female</td>\n",
       "      <td>26.0</td>\n",
       "      <td>0</td>\n",
       "      <td>0</td>\n",
       "      <td>STON/O2. 3101282</td>\n",
       "      <td>7.9250</td>\n",
       "      <td>NaN</td>\n",
       "      <td>S</td>\n",
       "      <td>True</td>\n",
       "    </tr>\n",
       "    <tr>\n",
       "      <th>3</th>\n",
       "      <td>4</td>\n",
       "      <td>1.0</td>\n",
       "      <td>1</td>\n",
       "      <td>Futrelle, Mrs. Jacques Heath (Lily May Peel)</td>\n",
       "      <td>female</td>\n",
       "      <td>35.0</td>\n",
       "      <td>1</td>\n",
       "      <td>0</td>\n",
       "      <td>113803</td>\n",
       "      <td>53.1000</td>\n",
       "      <td>C123</td>\n",
       "      <td>S</td>\n",
       "      <td>True</td>\n",
       "    </tr>\n",
       "    <tr>\n",
       "      <th>4</th>\n",
       "      <td>5</td>\n",
       "      <td>0.0</td>\n",
       "      <td>3</td>\n",
       "      <td>Allen, Mr. William Henry</td>\n",
       "      <td>male</td>\n",
       "      <td>35.0</td>\n",
       "      <td>0</td>\n",
       "      <td>0</td>\n",
       "      <td>373450</td>\n",
       "      <td>8.0500</td>\n",
       "      <td>NaN</td>\n",
       "      <td>S</td>\n",
       "      <td>True</td>\n",
       "    </tr>\n",
       "  </tbody>\n",
       "</table>\n",
       "</div>"
      ],
      "text/plain": [
       "   PassengerId  Survived  Pclass  \\\n",
       "0            1       0.0       3   \n",
       "1            2       1.0       1   \n",
       "2            3       1.0       3   \n",
       "3            4       1.0       1   \n",
       "4            5       0.0       3   \n",
       "\n",
       "                                                Name     Sex   Age  SibSp  \\\n",
       "0                            Braund, Mr. Owen Harris    male  22.0      1   \n",
       "1  Cumings, Mrs. John Bradley (Florence Briggs Th...  female  38.0      1   \n",
       "2                             Heikkinen, Miss. Laina  female  26.0      0   \n",
       "3       Futrelle, Mrs. Jacques Heath (Lily May Peel)  female  35.0      1   \n",
       "4                           Allen, Mr. William Henry    male  35.0      0   \n",
       "\n",
       "   Parch            Ticket     Fare Cabin Embarked  Adult  \n",
       "0      0         A/5 21171   7.2500   NaN        S   True  \n",
       "1      0          PC 17599  71.2833   C85        C   True  \n",
       "2      0  STON/O2. 3101282   7.9250   NaN        S   True  \n",
       "3      0            113803  53.1000  C123        S   True  \n",
       "4      0            373450   8.0500   NaN        S   True  "
      ]
     },
     "execution_count": 18,
     "metadata": {},
     "output_type": "execute_result"
    }
   ],
   "source": [
    "titanic['Adult'] = titanic['Age'] >=18  #nouvelle colonne adult (t,f)\n",
    "titanic.head()"
   ]
  },
  {
   "cell_type": "markdown",
   "metadata": {},
   "source": [
    "Et qui des individus dont on ne connait pas l’age ?"
   ]
  },
  {
   "cell_type": "code",
   "execution_count": 19,
   "metadata": {
    "scrolled": true
   },
   "outputs": [
    {
     "data": {
      "text/plain": [
       "Adult  Sex   \n",
       "False  female     72\n",
       "       male       82\n",
       "True   female    316\n",
       "       male      576\n",
       "Name: PassengerId, dtype: int64"
      ]
     },
     "execution_count": 19,
     "metadata": {},
     "output_type": "execute_result"
    }
   ],
   "source": [
    "pd.set_option('mode.chained_assignment', None)\n",
    "titanic_filt_age['Adult'] = titanic_filt_age['Age'] >=18\n",
    "passengers = titanic_filt_age.groupby(['Adult','Sex']).count()['PassengerId']\n",
    "passengers"
   ]
  },
  {
   "cell_type": "code",
   "execution_count": 20,
   "metadata": {},
   "outputs": [
    {
     "data": {
      "text/plain": [
       "Adult  Sex   \n",
       "False  female     38.0\n",
       "       male       23.0\n",
       "True   female    159.0\n",
       "       male       70.0\n",
       "Name: Survived, dtype: float64"
      ]
     },
     "execution_count": 20,
     "metadata": {},
     "output_type": "execute_result"
    }
   ],
   "source": [
    "survivors = titanic_filt_age.groupby(['Adult','Sex'])['Survived'].sum()\n",
    "survivors"
   ]
  },
  {
   "cell_type": "markdown",
   "metadata": {},
   "source": [
    "#### Résumons et Visualisons"
   ]
  },
  {
   "cell_type": "code",
   "execution_count": 21,
   "metadata": {},
   "outputs": [
    {
     "data": {
      "text/html": [
       "<div>\n",
       "<style scoped>\n",
       "    .dataframe tbody tr th:only-of-type {\n",
       "        vertical-align: middle;\n",
       "    }\n",
       "\n",
       "    .dataframe tbody tr th {\n",
       "        vertical-align: top;\n",
       "    }\n",
       "\n",
       "    .dataframe thead th {\n",
       "        text-align: right;\n",
       "    }\n",
       "</style>\n",
       "<table border=\"1\" class=\"dataframe\">\n",
       "  <thead>\n",
       "    <tr style=\"text-align: right;\">\n",
       "      <th></th>\n",
       "      <th>Survivants</th>\n",
       "      <th>Passagers</th>\n",
       "      <th>%</th>\n",
       "    </tr>\n",
       "  </thead>\n",
       "  <tbody>\n",
       "    <tr>\n",
       "      <th>Girl</th>\n",
       "      <td>38.0</td>\n",
       "      <td>72</td>\n",
       "      <td>52.8</td>\n",
       "    </tr>\n",
       "    <tr>\n",
       "      <th>Boy</th>\n",
       "      <td>23.0</td>\n",
       "      <td>82</td>\n",
       "      <td>28.0</td>\n",
       "    </tr>\n",
       "    <tr>\n",
       "      <th>Woman</th>\n",
       "      <td>159.0</td>\n",
       "      <td>316</td>\n",
       "      <td>50.3</td>\n",
       "    </tr>\n",
       "    <tr>\n",
       "      <th>Man</th>\n",
       "      <td>70.0</td>\n",
       "      <td>576</td>\n",
       "      <td>12.2</td>\n",
       "    </tr>\n",
       "  </tbody>\n",
       "</table>\n",
       "</div>"
      ],
      "text/plain": [
       "       Survivants  Passagers     %\n",
       "Girl         38.0         72  52.8\n",
       "Boy          23.0         82  28.0\n",
       "Woman       159.0        316  50.3\n",
       "Man          70.0        576  12.2"
      ]
     },
     "execution_count": 21,
     "metadata": {},
     "output_type": "execute_result"
    }
   ],
   "source": [
    "passengers = titanic_filt_age.groupby(['Adult','Sex'])['PassengerId'].count()\n",
    "summary = pd.DataFrame({\"Survivants\": survivors,\n",
    "                       \"Passagers\": passengers,\n",
    "                       \"%\": round(survivors/passengers*100, 1)})\n",
    "summary.index=['Girl','Boy','Woman','Man']\n",
    "summary"
   ]
  },
  {
   "cell_type": "code",
   "execution_count": 24,
   "metadata": {},
   "outputs": [
    {
     "data": {
      "image/png": "[encoded data removed]",
      "text/plain": [
       "<Figure size 2000x600 with 1 Axes>"
      ]
     },
     "metadata": {},
     "output_type": "display_data"
    }
   ],
   "source": [
    "plt.rcParams[\"figure.figsize\"]=(20,6)\n",
    "summary.plot(kind='bar')\n",
    "plt.xlabel(\"Personnes classées selon l'age et le sexe\")\n",
    "plt.ylabel('Total')\n",
    "plt.title(\"Comparaison de la survie selon l'age et le sexe\");"
   ]
  },
  {
   "cell_type": "markdown",
   "metadata": {},
   "source": [
    "* Observations:\n",
    "\n",
    " * Il y a plus d’adultes que d’enfants.\n",
    "\n",
    " * Ainsi, on a respectivement 52.8%, 28%, 50.3% et 12.2% de survivant-es parmi les filles, garcons, femmes et hommes.\n",
    "\n",
    "* Interprétation: \n",
    "  Quelque soit la catégorie, les personnes de sexe féminin ont une plus grande chance de survie que les masculins. Les enfants de sexe masculin ont une plus grande chance de survie que les adultes mais ce n’est pas réciproque pour les personnes de sexe féminin. Pour aller plus loin, que pourrions nous regarder ?"
   ]
  },
  {
   "cell_type": "markdown",
   "metadata": {},
   "source": [
    "### Calculer la proportion de survie selon le port d’embarquement"
   ]
  },
  {
   "cell_type": "markdown",
   "metadata": {},
   "source": [
    "La colonne du port d’embarquement a des valeurs manquantes. Comme la plupart des passagers et passagères sont montées à Southampton, on peut supposer que les données manquantes viennent de là.\n"
   ]
  },
  {
   "cell_type": "code",
   "execution_count": 25,
   "metadata": {},
   "outputs": [],
   "source": [
    "titanic[\"Embarked\"] = titanic[\"Embarked\"].fillna('S')"
   ]
  },
  {
   "cell_type": "code",
   "execution_count": 26,
   "metadata": {},
   "outputs": [
    {
     "data": {
      "text/html": [
       "<div>\n",
       "<style scoped>\n",
       "    .dataframe tbody tr th:only-of-type {\n",
       "        vertical-align: middle;\n",
       "    }\n",
       "\n",
       "    .dataframe tbody tr th {\n",
       "        vertical-align: top;\n",
       "    }\n",
       "\n",
       "    .dataframe thead th {\n",
       "        text-align: right;\n",
       "    }\n",
       "</style>\n",
       "<table border=\"1\" class=\"dataframe\">\n",
       "  <thead>\n",
       "    <tr style=\"text-align: right;\">\n",
       "      <th></th>\n",
       "      <th>Survivants</th>\n",
       "      <th>Passagers</th>\n",
       "      <th>%</th>\n",
       "    </tr>\n",
       "    <tr>\n",
       "      <th>Embarked</th>\n",
       "      <th></th>\n",
       "      <th></th>\n",
       "      <th></th>\n",
       "    </tr>\n",
       "  </thead>\n",
       "  <tbody>\n",
       "    <tr>\n",
       "      <th>C</th>\n",
       "      <td>93.0</td>\n",
       "      <td>270</td>\n",
       "      <td>34.4</td>\n",
       "    </tr>\n",
       "    <tr>\n",
       "      <th>Q</th>\n",
       "      <td>30.0</td>\n",
       "      <td>123</td>\n",
       "      <td>24.4</td>\n",
       "    </tr>\n",
       "    <tr>\n",
       "      <th>S</th>\n",
       "      <td>219.0</td>\n",
       "      <td>916</td>\n",
       "      <td>23.9</td>\n",
       "    </tr>\n",
       "  </tbody>\n",
       "</table>\n",
       "</div>"
      ],
      "text/plain": [
       "          Survivants  Passagers     %\n",
       "Embarked                             \n",
       "C               93.0        270  34.4\n",
       "Q               30.0        123  24.4\n",
       "S              219.0        916  23.9"
      ]
     },
     "execution_count": 26,
     "metadata": {},
     "output_type": "execute_result"
    }
   ],
   "source": [
    "survivors_per_port = titanic.groupby('Embarked')['Survived'].sum()\n",
    "passengers_per_port = titanic.groupby('Embarked')['PassengerId'].count()\n",
    "comparaison_port_survie = pd.DataFrame({\"Survivants\": survivors_per_port,\n",
    "                                        \"Passagers\": passengers_per_port,\n",
    "                                        \"%\": round(survivors_per_port/passengers_per_port*100, 1)})\n",
    "comparaison_port_survie"
   ]
  },
  {
   "cell_type": "code",
   "execution_count": 27,
   "metadata": {},
   "outputs": [
    {
     "data": {
      "text/plain": [
       "Text(0.5, 1.0, 'Comparaison de survie selon le port')"
      ]
     },
     "execution_count": 27,
     "metadata": {},
     "output_type": "execute_result"
    },
    {
     "data": {
      "image/png": "[encoded data removed]",
      "text/plain": [
       "<Figure size 2000x600 with 1 Axes>"
      ]
     },
     "metadata": {},
     "output_type": "display_data"
    }
   ],
   "source": [
    "comparaison_port_survie.plot(kind='bar')\n",
    "plt.xlabel(\"Port d'Embarquement\")\n",
    "plt.ylabel(\"Nombre d'individus\")\n",
    "plt.title('Comparaison de survie selon le port')"
   ]
  },
  {
   "cell_type": "markdown",
   "metadata": {},
   "source": [
    "La figure indique que:\n",
    "\n",
    "* la plupart des individus sont montés à Southampton puis Cherbourg puis Queenstown.\n",
    "\n",
    "* le nombre de survivants et survivantes est plus grand selon le meme ordre.\n",
    "\n",
    "* Respectivement 219/916; 93/270 et 30/123 ont survécus selon le port d’embarquement Southampton, Cherbourg, Queenstown.\n",
    "\n",
    "* L’analyse de proportionnalité nous informe que les individus étant montés à Cherbourg ont eu plus de chance de survie. Pourquoi cela ?"
   ]
  },
  {
   "cell_type": "markdown",
   "metadata": {},
   "source": [
    "### C'est quoi la corrélation ? Et la causalité ?\n",
    "Il existe trois types de relations statistiques:\n",
    "\n",
    "* corrélation positive: si une variable augmente, l’autre aussi.\n",
    "\n",
    "* corrélation négative: si une variable augmente, l’autre diminue.\n",
    "\n",
    "* absence de corrélation: si une variable augmente, l’autre peut ou pas varier sans lien entre elle.\n",
    "\n",
    "Exemple de corrélation:"
   ]
  },
  {
   "cell_type": "markdown",
   "metadata": {},
   "source": [
    "![img](Titanic/correlationChocolatNobels.png)"
   ]
  },
  {
   "cell_type": "markdown",
   "metadata": {},
   "source": [
    "Cette corrélation est tirée d’un papier de 2012 par F. Messerli.\n",
    "\n",
    "C. Pissarides, prix Nobel d’économie en 2010 suite à ce papier à commenté:\n",
    "\n",
    "« To win a Nobel Prize you have to produce something that others haven’t thought about - chocolate that makes you feel good might contribute a little bit. Of course it’s not the main factor but… anything that contributes to a better life and a better outlook in your life then contributes to the quality of your work. »\n",
    "\n",
    "1. Décrivez la figure\n",
    "\n",
    "2. Qu’est-ce qu’on observe?\n",
    "\n",
    "3. Qu’en conclut-on?\n",
    "\n",
    "Depuis, il a été montré que la corrélation positive est due à la richesse économique (economic wealth).\n",
    "\n",
    "Alors qu’est ce que la causalité ?\n",
    "\n",
    "Dans notre exemple, la richesse économique implique\n",
    "\n",
    "* une plus grande dépense en recherche\n",
    "\n",
    "* ce qui implique une corrélation positive avec le nombre de prix Nobel.\n",
    "\n",
    "Par ailleurs et indépendamment, la richesse économique implique :\n",
    "\n",
    "* de plus grandes dépenses dans les produits de luxe, dont le chocolat.\n",
    "\n",
    "Causalité n’est pas corrélation\n",
    "* Les corrélations relèvent de l'observation;\n",
    "\n",
    "* Les causalités relèvent de l'interprétation !"
   ]
  },
  {
   "cell_type": "markdown",
   "metadata": {},
   "source": [
    "Retour au port d’embarquement. Pourquoi on survit plus si on a embarqué a Cherbourg ?\n",
    "\n",
    "Hypothèse 1: Il y a plus de femmes à Cherbourg (?)\n",
    "\n",
    "Hypothèse 2: On est plus riche à Cherbourg et plus on est riche plus on a survécu (?)\n",
    "\n",
    "\n",
    "\n",
    "#### Hypothèse 1: Il y a plus de femmes à Cherbourg"
   ]
  },
  {
   "cell_type": "code",
   "execution_count": 28,
   "metadata": {},
   "outputs": [
    {
     "data": {
      "text/html": [
       "<div>\n",
       "<style scoped>\n",
       "    .dataframe tbody tr th:only-of-type {\n",
       "        vertical-align: middle;\n",
       "    }\n",
       "\n",
       "    .dataframe tbody tr th {\n",
       "        vertical-align: top;\n",
       "    }\n",
       "\n",
       "    .dataframe thead th {\n",
       "        text-align: right;\n",
       "    }\n",
       "</style>\n",
       "<table border=\"1\" class=\"dataframe\">\n",
       "  <thead>\n",
       "    <tr style=\"text-align: right;\">\n",
       "      <th></th>\n",
       "      <th>Female</th>\n",
       "      <th>Male</th>\n",
       "      <th>Total</th>\n",
       "      <th>% Female</th>\n",
       "    </tr>\n",
       "    <tr>\n",
       "      <th>Embarked</th>\n",
       "      <th></th>\n",
       "      <th></th>\n",
       "      <th></th>\n",
       "      <th></th>\n",
       "    </tr>\n",
       "  </thead>\n",
       "  <tbody>\n",
       "    <tr>\n",
       "      <th>C</th>\n",
       "      <td>113</td>\n",
       "      <td>157</td>\n",
       "      <td>270</td>\n",
       "      <td>0.418519</td>\n",
       "    </tr>\n",
       "    <tr>\n",
       "      <th>Q</th>\n",
       "      <td>60</td>\n",
       "      <td>63</td>\n",
       "      <td>123</td>\n",
       "      <td>0.487805</td>\n",
       "    </tr>\n",
       "    <tr>\n",
       "      <th>S</th>\n",
       "      <td>293</td>\n",
       "      <td>623</td>\n",
       "      <td>916</td>\n",
       "      <td>0.319869</td>\n",
       "    </tr>\n",
       "  </tbody>\n",
       "</table>\n",
       "</div>"
      ],
      "text/plain": [
       "          Female  Male  Total  % Female\n",
       "Embarked                               \n",
       "C            113   157    270  0.418519\n",
       "Q             60    63    123  0.487805\n",
       "S            293   623    916  0.319869"
      ]
     },
     "execution_count": 28,
     "metadata": {},
     "output_type": "execute_result"
    }
   ],
   "source": [
    "female_per_port = titanic[titanic['Sex']=='female'].groupby('Embarked')['PassengerId'].count()\n",
    "male_per_port = titanic[titanic['Sex']=='male'].groupby('Embarked')['PassengerId'].count()\n",
    "pd.DataFrame({\"Female\": female_per_port,\n",
    "              \"Male\" : male_per_port,\n",
    "              \"Total\": passengers_per_port,\n",
    "              \"% Female\": female_per_port / passengers_per_port\n",
    "              })"
   ]
  },
  {
   "cell_type": "markdown",
   "metadata": {},
   "source": [
    "Il n’y a pas plus d’individus féminins à Cherbourg qu’à Queenstown."
   ]
  },
  {
   "cell_type": "markdown",
   "metadata": {},
   "source": [
    "#### Hypothèse 2: on est plus riche à Cherbourg et plus on est riche plus on a survécu (?)"
   ]
  },
  {
   "cell_type": "code",
   "execution_count": 29,
   "metadata": {},
   "outputs": [
    {
     "data": {
      "text/html": [
       "<div>\n",
       "<style scoped>\n",
       "    .dataframe tbody tr th:only-of-type {\n",
       "        vertical-align: middle;\n",
       "    }\n",
       "\n",
       "    .dataframe tbody tr th {\n",
       "        vertical-align: top;\n",
       "    }\n",
       "\n",
       "    .dataframe thead th {\n",
       "        text-align: right;\n",
       "    }\n",
       "</style>\n",
       "<table border=\"1\" class=\"dataframe\">\n",
       "  <thead>\n",
       "    <tr style=\"text-align: right;\">\n",
       "      <th></th>\n",
       "      <th>Survivants</th>\n",
       "      <th>Passagers</th>\n",
       "      <th>%</th>\n",
       "    </tr>\n",
       "  </thead>\n",
       "  <tbody>\n",
       "    <tr>\n",
       "      <th>1</th>\n",
       "      <td>136.0</td>\n",
       "      <td>323</td>\n",
       "      <td>42.1</td>\n",
       "    </tr>\n",
       "    <tr>\n",
       "      <th>2</th>\n",
       "      <td>87.0</td>\n",
       "      <td>277</td>\n",
       "      <td>31.4</td>\n",
       "    </tr>\n",
       "    <tr>\n",
       "      <th>3</th>\n",
       "      <td>119.0</td>\n",
       "      <td>709</td>\n",
       "      <td>16.8</td>\n",
       "    </tr>\n",
       "  </tbody>\n",
       "</table>\n",
       "</div>"
      ],
      "text/plain": [
       "   Survivants  Passagers     %\n",
       "1       136.0        323  42.1\n",
       "2        87.0        277  31.4\n",
       "3       119.0        709  16.8"
      ]
     },
     "execution_count": 29,
     "metadata": {},
     "output_type": "execute_result"
    }
   ],
   "source": [
    "survivors_per_class = titanic.groupby('Pclass')['Survived'].sum()\n",
    "passengers_per_class = titanic['Pclass'].value_counts()\n",
    "pd.DataFrame({\"Survivants\": survivors_per_class,\n",
    "              \"Passagers\": passengers_per_class,\n",
    "              \"%\": round(survivors_per_class/passengers_per_class*100, 1)})"
   ]
  },
  {
   "cell_type": "markdown",
   "metadata": {},
   "source": [
    "Il y a une corrélation entre la classe et la probabilité de survie!\n",
    "\n",
    "On peut même l’expliquer causalement !\n",
    "\n",
    "Regardons la répartitions entre classes, selon le port d’embarquement"
   ]
  },
  {
   "cell_type": "code",
   "execution_count": 30,
   "metadata": {},
   "outputs": [
    {
     "data": {
      "text/html": [
       "<div>\n",
       "<style scoped>\n",
       "    .dataframe tbody tr th:only-of-type {\n",
       "        vertical-align: middle;\n",
       "    }\n",
       "\n",
       "    .dataframe tbody tr th {\n",
       "        vertical-align: top;\n",
       "    }\n",
       "\n",
       "    .dataframe thead th {\n",
       "        text-align: right;\n",
       "    }\n",
       "</style>\n",
       "<table border=\"1\" class=\"dataframe\">\n",
       "  <thead>\n",
       "    <tr style=\"text-align: right;\">\n",
       "      <th></th>\n",
       "      <th>Classe 1</th>\n",
       "      <th>Classe 2</th>\n",
       "      <th>Classe 3</th>\n",
       "      <th>Passengers</th>\n",
       "      <th>% Classe 1</th>\n",
       "    </tr>\n",
       "    <tr>\n",
       "      <th>Embarked</th>\n",
       "      <th></th>\n",
       "      <th></th>\n",
       "      <th></th>\n",
       "      <th></th>\n",
       "      <th></th>\n",
       "    </tr>\n",
       "  </thead>\n",
       "  <tbody>\n",
       "    <tr>\n",
       "      <th>C</th>\n",
       "      <td>141</td>\n",
       "      <td>101</td>\n",
       "      <td>101</td>\n",
       "      <td>270</td>\n",
       "      <td>52.2</td>\n",
       "    </tr>\n",
       "    <tr>\n",
       "      <th>Q</th>\n",
       "      <td>3</td>\n",
       "      <td>113</td>\n",
       "      <td>113</td>\n",
       "      <td>123</td>\n",
       "      <td>2.4</td>\n",
       "    </tr>\n",
       "    <tr>\n",
       "      <th>S</th>\n",
       "      <td>179</td>\n",
       "      <td>495</td>\n",
       "      <td>495</td>\n",
       "      <td>916</td>\n",
       "      <td>19.5</td>\n",
       "    </tr>\n",
       "  </tbody>\n",
       "</table>\n",
       "</div>"
      ],
      "text/plain": [
       "          Classe 1  Classe 2  Classe 3  Passengers  % Classe 1\n",
       "Embarked                                                      \n",
       "C              141       101       101         270        52.2\n",
       "Q                3       113       113         123         2.4\n",
       "S              179       495       495         916        19.5"
      ]
     },
     "execution_count": 30,
     "metadata": {},
     "output_type": "execute_result"
    }
   ],
   "source": [
    "pclass1_per_port = titanic[titanic['Pclass']==1].groupby('Embarked').count()['PassengerId']\n",
    "pclass2_per_port = titanic[titanic['Pclass']==2].groupby('Embarked').count()['PassengerId']\n",
    "pclass3_per_port = titanic[titanic['Pclass']==3].groupby('Embarked').count()['PassengerId']\n",
    "\n",
    "\n",
    "pd.DataFrame({'Classe 1': pclass1_per_port,\n",
    "              'Classe 2': pclass3_per_port,\n",
    "              'Classe 3': pclass3_per_port,\n",
    "              'Passengers': passengers_per_port,\n",
    "              '% Classe 1': round(pclass1_per_port/passengers_per_port*100,1)})"
   ]
  },
  {
   "cell_type": "markdown",
   "metadata": {},
   "source": [
    "#### Observations\n",
    "\n",
    "* Les passagers ayant embarqué à Cherbourg regroupent principalement des individus de première classe.\n",
    "\n",
    "* Les passagers qui embarquent à Queenstown (Irlande) sont principalement de la classe 2 et 3 des migrants en route vers les États-Unis.\n",
    "\n",
    "#### Conclusions\n",
    "\n",
    "* Les passagers ayant embarqué à Cherbourg arrivent de Paris (France) et sont plutôt riches.\n",
    "\n",
    "* Il semble que la classe plus que le port d’embarquement a une relation de causalité avec la survie (à vérifier)."
   ]
  },
  {
   "cell_type": "markdown",
   "metadata": {},
   "source": [
    "### Corrélation (point mathématique)\n",
    "Le coefficient de [corrélation linéaire de Pearson](https://en.wikipedia.org/wiki/Pearson_correlation_coefficient) se calcule facilement en python . Il correspond à la version normalisée par la standard deviation (écart-type) de la covariance. \n",
    "Mathematiquement, on a:\n",
    "$$\n",
    "\\rho_{xy} = \\frac{\\sigma_{xy}}{\\sigma_x\\sigma_y}\n",
    "$$\n",
    "\n",
    "varie entre -1 et 1 et représente la force de la relation linéaire qui existe entre les 2 vecteurs/séries.\n",
    "\n",
    " * 0 : pas de corrélation,\n",
    " * 1 : corrélation positive parfaite (si on connait x alors on peut déduire y, les points sont alignés le long d'une droite)\n",
    " * -1: corrélation négative parfaite (idem)\n",
    " * en réalité, on a souvent des corrélations intermédiaires\n",
    "« The intention of this contribution was to show that the correlation between chocolate consumption per capita and the number of Nobel laureates per capita (as reported by Messerli, 2012) will vanish if one controls for relevant other variables and if one uses a sophisticated estimation technique. » par Prinz A. L. (2020)\n",
    "![img](Titanic/correlationsChocolat.jpeg)\n",
    "On peut calculer la matrice de corrélation qui correspond à la corrélation entre les colonnes d’une table, et utiliser une carte de chaleur (heatmap en anglais) pour mieux la visualiser:"
   ]
  },
  {
   "cell_type": "code",
   "execution_count": 35,
   "metadata": {},
   "outputs": [
    {
     "name": "stderr",
     "output_type": "stream",
     "text": [
      "C:\\Users\\LENOVO\\AppData\\Local\\Temp\\ipykernel_10620\\3899418197.py:1: FutureWarning: The default value of numeric_only in DataFrame.corr is deprecated. In a future version, it will default to False. Select only valid columns or specify the value of numeric_only to silence this warning.\n",
      "  titanic.corr()\n",
      "C:\\Users\\LENOVO\\AppData\\Local\\Temp\\ipykernel_10620\\3899418197.py:2: FutureWarning: The default value of numeric_only in DataFrame.corr is deprecated. In a future version, it will default to False. Select only valid columns or specify the value of numeric_only to silence this warning.\n",
      "  titanic.corr().style.background_gradient(cmap='coolwarm', axis=1)\n"
     ]
    },
    {
     "data": {
      "text/html": [
       "<style type=\"text/css\">\n",
       "#T_972a3_row0_col0, #T_972a3_row1_col1, #T_972a3_row2_col2, #T_972a3_row3_col3, #T_972a3_row4_col4, #T_972a3_row5_col5, #T_972a3_row6_col6, #T_972a3_row7_col7 {\n",
       "  background-color: #b40426;\n",
       "  color: #f1f1f1;\n",
       "}\n",
       "#T_972a3_row0_col1, #T_972a3_row1_col0, #T_972a3_row2_col6, #T_972a3_row3_col2, #T_972a3_row4_col3, #T_972a3_row5_col3, #T_972a3_row6_col2, #T_972a3_row7_col2 {\n",
       "  background-color: #3b4cc0;\n",
       "  color: #f1f1f1;\n",
       "}\n",
       "#T_972a3_row0_col2 {\n",
       "  background-color: #82a6fb;\n",
       "  color: #f1f1f1;\n",
       "}\n",
       "#T_972a3_row0_col3, #T_972a3_row0_col6, #T_972a3_row0_col7 {\n",
       "  background-color: #94b6ff;\n",
       "  color: #000000;\n",
       "}\n",
       "#T_972a3_row0_col4 {\n",
       "  background-color: #7ea1fa;\n",
       "  color: #f1f1f1;\n",
       "}\n",
       "#T_972a3_row0_col5 {\n",
       "  background-color: #8fb1fe;\n",
       "  color: #000000;\n",
       "}\n",
       "#T_972a3_row1_col2 {\n",
       "  background-color: #4e68d8;\n",
       "  color: #f1f1f1;\n",
       "}\n",
       "#T_972a3_row1_col3, #T_972a3_row2_col1, #T_972a3_row7_col1 {\n",
       "  background-color: #7b9ff9;\n",
       "  color: #f1f1f1;\n",
       "}\n",
       "#T_972a3_row1_col4, #T_972a3_row1_col7, #T_972a3_row7_col0 {\n",
       "  background-color: #88abfd;\n",
       "  color: #000000;\n",
       "}\n",
       "#T_972a3_row1_col5 {\n",
       "  background-color: #9bbcff;\n",
       "  color: #000000;\n",
       "}\n",
       "#T_972a3_row1_col6 {\n",
       "  background-color: #bad0f8;\n",
       "  color: #000000;\n",
       "}\n",
       "#T_972a3_row2_col0 {\n",
       "  background-color: #aac7fd;\n",
       "  color: #000000;\n",
       "}\n",
       "#T_972a3_row2_col3 {\n",
       "  background-color: #5875e1;\n",
       "  color: #f1f1f1;\n",
       "}\n",
       "#T_972a3_row2_col4 {\n",
       "  background-color: #bfd3f6;\n",
       "  color: #000000;\n",
       "}\n",
       "#T_972a3_row2_col5 {\n",
       "  background-color: #b6cefa;\n",
       "  color: #000000;\n",
       "}\n",
       "#T_972a3_row2_col7, #T_972a3_row4_col1 {\n",
       "  background-color: #7699f6;\n",
       "  color: #f1f1f1;\n",
       "}\n",
       "#T_972a3_row3_col0 {\n",
       "  background-color: #a2c1ff;\n",
       "  color: #000000;\n",
       "}\n",
       "#T_972a3_row3_col1, #T_972a3_row4_col2 {\n",
       "  background-color: #8badfd;\n",
       "  color: #000000;\n",
       "}\n",
       "#T_972a3_row3_col4 {\n",
       "  background-color: #5e7de7;\n",
       "  color: #f1f1f1;\n",
       "}\n",
       "#T_972a3_row3_col5 {\n",
       "  background-color: #7597f6;\n",
       "  color: #f1f1f1;\n",
       "}\n",
       "#T_972a3_row3_col6 {\n",
       "  background-color: #c5d6f2;\n",
       "  color: #000000;\n",
       "}\n",
       "#T_972a3_row3_col7 {\n",
       "  background-color: #f7a688;\n",
       "  color: #000000;\n",
       "}\n",
       "#T_972a3_row4_col0 {\n",
       "  background-color: #6a8bef;\n",
       "  color: #f1f1f1;\n",
       "}\n",
       "#T_972a3_row4_col5 {\n",
       "  background-color: #dcdddd;\n",
       "  color: #000000;\n",
       "}\n",
       "#T_972a3_row4_col6 {\n",
       "  background-color: #a7c5fe;\n",
       "  color: #000000;\n",
       "}\n",
       "#T_972a3_row4_col7 {\n",
       "  background-color: #4358cb;\n",
       "  color: #f1f1f1;\n",
       "}\n",
       "#T_972a3_row5_col0 {\n",
       "  background-color: #6687ed;\n",
       "  color: #f1f1f1;\n",
       "}\n",
       "#T_972a3_row5_col1 {\n",
       "  background-color: #7396f5;\n",
       "  color: #f1f1f1;\n",
       "}\n",
       "#T_972a3_row5_col2 {\n",
       "  background-color: #688aef;\n",
       "  color: #f1f1f1;\n",
       "}\n",
       "#T_972a3_row5_col4 {\n",
       "  background-color: #d1dae9;\n",
       "  color: #000000;\n",
       "}\n",
       "#T_972a3_row5_col6 {\n",
       "  background-color: #a6c4fe;\n",
       "  color: #000000;\n",
       "}\n",
       "#T_972a3_row5_col7 {\n",
       "  background-color: #4055c8;\n",
       "  color: #f1f1f1;\n",
       "}\n",
       "#T_972a3_row6_col0 {\n",
       "  background-color: #b9d0f9;\n",
       "  color: #000000;\n",
       "}\n",
       "#T_972a3_row6_col1 {\n",
       "  background-color: #d5dbe5;\n",
       "  color: #000000;\n",
       "}\n",
       "#T_972a3_row6_col3 {\n",
       "  background-color: #d6dce4;\n",
       "  color: #000000;\n",
       "}\n",
       "#T_972a3_row6_col4 {\n",
       "  background-color: #d3dbe7;\n",
       "  color: #000000;\n",
       "}\n",
       "#T_972a3_row6_col5 {\n",
       "  background-color: #dddcdc;\n",
       "  color: #000000;\n",
       "}\n",
       "#T_972a3_row6_col7 {\n",
       "  background-color: #cbd8ee;\n",
       "  color: #000000;\n",
       "}\n",
       "#T_972a3_row7_col3 {\n",
       "  background-color: #f7b194;\n",
       "  color: #000000;\n",
       "}\n",
       "#T_972a3_row7_col4 {\n",
       "  background-color: #485fd1;\n",
       "  color: #f1f1f1;\n",
       "}\n",
       "#T_972a3_row7_col5 {\n",
       "  background-color: #5d7ce6;\n",
       "  color: #f1f1f1;\n",
       "}\n",
       "#T_972a3_row7_col6 {\n",
       "  background-color: #a1c0ff;\n",
       "  color: #000000;\n",
       "}\n",
       "</style>\n",
       "<table id=\"T_972a3\">\n",
       "  <thead>\n",
       "    <tr>\n",
       "      <th class=\"blank level0\" >&nbsp;</th>\n",
       "      <th id=\"T_972a3_level0_col0\" class=\"col_heading level0 col0\" >PassengerId</th>\n",
       "      <th id=\"T_972a3_level0_col1\" class=\"col_heading level0 col1\" >Survived</th>\n",
       "      <th id=\"T_972a3_level0_col2\" class=\"col_heading level0 col2\" >Pclass</th>\n",
       "      <th id=\"T_972a3_level0_col3\" class=\"col_heading level0 col3\" >Age</th>\n",
       "      <th id=\"T_972a3_level0_col4\" class=\"col_heading level0 col4\" >SibSp</th>\n",
       "      <th id=\"T_972a3_level0_col5\" class=\"col_heading level0 col5\" >Parch</th>\n",
       "      <th id=\"T_972a3_level0_col6\" class=\"col_heading level0 col6\" >Fare</th>\n",
       "      <th id=\"T_972a3_level0_col7\" class=\"col_heading level0 col7\" >Adult</th>\n",
       "    </tr>\n",
       "  </thead>\n",
       "  <tbody>\n",
       "    <tr>\n",
       "      <th id=\"T_972a3_level0_row0\" class=\"row_heading level0 row0\" >PassengerId</th>\n",
       "      <td id=\"T_972a3_row0_col0\" class=\"data row0 col0\" >1.000000</td>\n",
       "      <td id=\"T_972a3_row0_col1\" class=\"data row0 col1\" >-0.331493</td>\n",
       "      <td id=\"T_972a3_row0_col2\" class=\"data row0 col2\" >-0.038354</td>\n",
       "      <td id=\"T_972a3_row0_col3\" class=\"data row0 col3\" >0.028814</td>\n",
       "      <td id=\"T_972a3_row0_col4\" class=\"data row0 col4\" >-0.055224</td>\n",
       "      <td id=\"T_972a3_row0_col5\" class=\"data row0 col5\" >0.008942</td>\n",
       "      <td id=\"T_972a3_row0_col6\" class=\"data row0 col6\" >0.031428</td>\n",
       "      <td id=\"T_972a3_row0_col7\" class=\"data row0 col7\" >0.031181</td>\n",
       "    </tr>\n",
       "    <tr>\n",
       "      <th id=\"T_972a3_level0_row1\" class=\"row_heading level0 row1\" >Survived</th>\n",
       "      <td id=\"T_972a3_row1_col0\" class=\"data row1 col0\" >-0.331493</td>\n",
       "      <td id=\"T_972a3_row1_col1\" class=\"data row1 col1\" >1.000000</td>\n",
       "      <td id=\"T_972a3_row1_col2\" class=\"data row1 col2\" >-0.244686</td>\n",
       "      <td id=\"T_972a3_row1_col3\" class=\"data row1 col3\" >-0.066096</td>\n",
       "      <td id=\"T_972a3_row1_col4\" class=\"data row1 col4\" >-0.014375</td>\n",
       "      <td id=\"T_972a3_row1_col5\" class=\"data row1 col5\" >0.054908</td>\n",
       "      <td id=\"T_972a3_row1_col6\" class=\"data row1 col6\" >0.173653</td>\n",
       "      <td id=\"T_972a3_row1_col7\" class=\"data row1 col7\" >-0.015120</td>\n",
       "    </tr>\n",
       "    <tr>\n",
       "      <th id=\"T_972a3_level0_row2\" class=\"row_heading level0 row2\" >Pclass</th>\n",
       "      <td id=\"T_972a3_row2_col0\" class=\"data row2 col0\" >-0.038354</td>\n",
       "      <td id=\"T_972a3_row2_col1\" class=\"data row2 col1\" >-0.244686</td>\n",
       "      <td id=\"T_972a3_row2_col2\" class=\"data row2 col2\" >1.000000</td>\n",
       "      <td id=\"T_972a3_row2_col3\" class=\"data row2 col3\" >-0.408106</td>\n",
       "      <td id=\"T_972a3_row2_col4\" class=\"data row2 col4\" >0.060832</td>\n",
       "      <td id=\"T_972a3_row2_col5\" class=\"data row2 col5\" >0.018322</td>\n",
       "      <td id=\"T_972a3_row2_col6\" class=\"data row2 col6\" >-0.558629</td>\n",
       "      <td id=\"T_972a3_row2_col7\" class=\"data row2 col7\" >-0.268279</td>\n",
       "    </tr>\n",
       "    <tr>\n",
       "      <th id=\"T_972a3_level0_row3\" class=\"row_heading level0 row3\" >Age</th>\n",
       "      <td id=\"T_972a3_row3_col0\" class=\"data row3 col0\" >0.028814</td>\n",
       "      <td id=\"T_972a3_row3_col1\" class=\"data row3 col1\" >-0.066096</td>\n",
       "      <td id=\"T_972a3_row3_col2\" class=\"data row3 col2\" >-0.408106</td>\n",
       "      <td id=\"T_972a3_row3_col3\" class=\"data row3 col3\" >1.000000</td>\n",
       "      <td id=\"T_972a3_row3_col4\" class=\"data row3 col4\" >-0.243699</td>\n",
       "      <td id=\"T_972a3_row3_col5\" class=\"data row3 col5\" >-0.150917</td>\n",
       "      <td id=\"T_972a3_row3_col6\" class=\"data row3 col6\" >0.178740</td>\n",
       "      <td id=\"T_972a3_row3_col7\" class=\"data row3 col7\" >0.599307</td>\n",
       "    </tr>\n",
       "    <tr>\n",
       "      <th id=\"T_972a3_level0_row4\" class=\"row_heading level0 row4\" >SibSp</th>\n",
       "      <td id=\"T_972a3_row4_col0\" class=\"data row4 col0\" >-0.055224</td>\n",
       "      <td id=\"T_972a3_row4_col1\" class=\"data row4 col1\" >-0.014375</td>\n",
       "      <td id=\"T_972a3_row4_col2\" class=\"data row4 col2\" >0.060832</td>\n",
       "      <td id=\"T_972a3_row4_col3\" class=\"data row4 col3\" >-0.243699</td>\n",
       "      <td id=\"T_972a3_row4_col4\" class=\"data row4 col4\" >1.000000</td>\n",
       "      <td id=\"T_972a3_row4_col5\" class=\"data row4 col5\" >0.373587</td>\n",
       "      <td id=\"T_972a3_row4_col6\" class=\"data row4 col6\" >0.160238</td>\n",
       "      <td id=\"T_972a3_row4_col7\" class=\"data row4 col7\" >-0.209397</td>\n",
       "    </tr>\n",
       "    <tr>\n",
       "      <th id=\"T_972a3_level0_row5\" class=\"row_heading level0 row5\" >Parch</th>\n",
       "      <td id=\"T_972a3_row5_col0\" class=\"data row5 col0\" >0.008942</td>\n",
       "      <td id=\"T_972a3_row5_col1\" class=\"data row5 col1\" >0.054908</td>\n",
       "      <td id=\"T_972a3_row5_col2\" class=\"data row5 col2\" >0.018322</td>\n",
       "      <td id=\"T_972a3_row5_col3\" class=\"data row5 col3\" >-0.150917</td>\n",
       "      <td id=\"T_972a3_row5_col4\" class=\"data row5 col4\" >0.373587</td>\n",
       "      <td id=\"T_972a3_row5_col5\" class=\"data row5 col5\" >1.000000</td>\n",
       "      <td id=\"T_972a3_row5_col6\" class=\"data row5 col6\" >0.221539</td>\n",
       "      <td id=\"T_972a3_row5_col7\" class=\"data row5 col7\" >-0.125914</td>\n",
       "    </tr>\n",
       "    <tr>\n",
       "      <th id=\"T_972a3_level0_row6\" class=\"row_heading level0 row6\" >Fare</th>\n",
       "      <td id=\"T_972a3_row6_col0\" class=\"data row6 col0\" >0.031428</td>\n",
       "      <td id=\"T_972a3_row6_col1\" class=\"data row6 col1\" >0.173653</td>\n",
       "      <td id=\"T_972a3_row6_col2\" class=\"data row6 col2\" >-0.558629</td>\n",
       "      <td id=\"T_972a3_row6_col3\" class=\"data row6 col3\" >0.178740</td>\n",
       "      <td id=\"T_972a3_row6_col4\" class=\"data row6 col4\" >0.160238</td>\n",
       "      <td id=\"T_972a3_row6_col5\" class=\"data row6 col5\" >0.221539</td>\n",
       "      <td id=\"T_972a3_row6_col6\" class=\"data row6 col6\" >1.000000</td>\n",
       "      <td id=\"T_972a3_row6_col7\" class=\"data row6 col7\" >0.120739</td>\n",
       "    </tr>\n",
       "    <tr>\n",
       "      <th id=\"T_972a3_level0_row7\" class=\"row_heading level0 row7\" >Adult</th>\n",
       "      <td id=\"T_972a3_row7_col0\" class=\"data row7 col0\" >0.031181</td>\n",
       "      <td id=\"T_972a3_row7_col1\" class=\"data row7 col1\" >-0.015120</td>\n",
       "      <td id=\"T_972a3_row7_col2\" class=\"data row7 col2\" >-0.268279</td>\n",
       "      <td id=\"T_972a3_row7_col3\" class=\"data row7 col3\" >0.599307</td>\n",
       "      <td id=\"T_972a3_row7_col4\" class=\"data row7 col4\" >-0.209397</td>\n",
       "      <td id=\"T_972a3_row7_col5\" class=\"data row7 col5\" >-0.125914</td>\n",
       "      <td id=\"T_972a3_row7_col6\" class=\"data row7 col6\" >0.120739</td>\n",
       "      <td id=\"T_972a3_row7_col7\" class=\"data row7 col7\" >1.000000</td>\n",
       "    </tr>\n",
       "  </tbody>\n",
       "</table>\n"
      ],
      "text/plain": [
       "<pandas.io.formats.style.Styler at 0x26bc472f370>"
      ]
     },
     "execution_count": 35,
     "metadata": {},
     "output_type": "execute_result"
    }
   ],
   "source": [
    "titanic.corr()\n",
    "titanic.corr().style.background_gradient(cmap='coolwarm', axis=1)\n",
    "#remarque on ne peut pas calculer de correlation linéaire \n",
    "#avec des données ayant plus de 2 catégories comme le port d'embarquement\n",
    "# il faudrait faire une ANOVA (off-topic)"
   ]
  },
  {
   "cell_type": "markdown",
   "metadata": {},
   "source": [
    "Attention: par défaut, pour attribuer des couleurs aux nombres dans une carte de chaleur, Pandas applique une standardisation par colonne. Le \"axis=None\" assure que la normalisation est appliquée à l’ensemble des valeurs de la table.\n",
    "\n",
    "Variante, avec \"Seaborn\":"
   ]
  },
  {
   "cell_type": "code",
   "execution_count": 32,
   "metadata": {},
   "outputs": [
    {
     "name": "stdout",
     "output_type": "stream",
     "text": [
      "Collecting jinja2\n",
      "  Downloading Jinja2-3.1.2-py3-none-any.whl (133 kB)\n",
      "     -------------------------------------- 133.1/133.1 kB 1.3 MB/s eta 0:00:00\n",
      "Collecting MarkupSafe>=2.0\n",
      "  Downloading MarkupSafe-2.1.1-cp310-cp310-win_amd64.whl (17 kB)\n",
      "Installing collected packages: MarkupSafe, jinja2\n",
      "Successfully installed MarkupSafe-2.1.1 jinja2-3.1.2\n",
      "Note: you may need to restart the kernel to use updated packages.\n"
     ]
    }
   ],
   "source": [
    "pip install jinja2"
   ]
  },
  {
   "cell_type": "code",
   "execution_count": 38,
   "metadata": {},
   "outputs": [
    {
     "name": "stderr",
     "output_type": "stream",
     "text": [
      "C:\\Users\\LENOVO\\AppData\\Local\\Temp\\ipykernel_10620\\327589398.py:3: FutureWarning: The default value of numeric_only in DataFrame.corr is deprecated. In a future version, it will default to False. Select only valid columns or specify the value of numeric_only to silence this warning.\n",
      "  sns.heatmap(titanic.corr(), fmt='0.2f', annot=True, square=True,cmap='coolwarm');\n"
     ]
    },
    {
     "data": {
      "image/png": "[encoded data removed]",
      "text/plain": [
       "<Figure size 2000x600 with 2 Axes>"
      ]
     },
     "metadata": {},
     "output_type": "display_data"
    }
   ],
   "source": [
    "import seaborn as sns\n",
    "\n",
    "sns.heatmap(titanic.corr(), fmt='0.2f', annot=True, square=True,cmap='coolwarm');"
   ]
  },
  {
   "cell_type": "code",
   "execution_count": null,
   "metadata": {},
   "outputs": [],
   "source": [
    "sns.heatmap"
   ]
  },
  {
   "cell_type": "code",
   "execution_count": 36,
   "metadata": {},
   "outputs": [
    {
     "name": "stdout",
     "output_type": "stream",
     "text": [
      "Collecting seaborn\n",
      "  Downloading seaborn-0.12.0-py3-none-any.whl (285 kB)\n",
      "     -------------------------------------- 285.1/285.1 kB 2.0 MB/s eta 0:00:00\n",
      "Requirement already satisfied: pandas>=0.25 in c:\\users\\lenovo\\appdata\\local\\programs\\python\\python310\\lib\\site-packages (from seaborn) (1.5.0)\n",
      "Requirement already satisfied: numpy>=1.17 in c:\\users\\lenovo\\appdata\\local\\programs\\python\\python310\\lib\\site-packages (from seaborn) (1.23.3)\n",
      "Requirement already satisfied: matplotlib>=3.1 in c:\\users\\lenovo\\appdata\\local\\programs\\python\\python310\\lib\\site-packages (from seaborn) (3.6.1)\n",
      "Requirement already satisfied: fonttools>=4.22.0 in c:\\users\\lenovo\\appdata\\local\\programs\\python\\python310\\lib\\site-packages (from matplotlib>=3.1->seaborn) (4.37.4)\n",
      "Requirement already satisfied: kiwisolver>=1.0.1 in c:\\users\\lenovo\\appdata\\local\\programs\\python\\python310\\lib\\site-packages (from matplotlib>=3.1->seaborn) (1.4.4)\n",
      "Requirement already satisfied: pyparsing>=2.2.1 in c:\\users\\lenovo\\appdata\\roaming\\python\\python310\\site-packages (from matplotlib>=3.1->seaborn) (3.0.9)\n",
      "Requirement already satisfied: python-dateutil>=2.7 in c:\\users\\lenovo\\appdata\\roaming\\python\\python310\\site-packages (from matplotlib>=3.1->seaborn) (2.8.2)\n",
      "Requirement already satisfied: pillow>=6.2.0 in c:\\users\\lenovo\\appdata\\local\\programs\\python\\python310\\lib\\site-packages (from matplotlib>=3.1->seaborn) (9.2.0)\n",
      "Requirement already satisfied: packaging>=20.0 in c:\\users\\lenovo\\appdata\\roaming\\python\\python310\\site-packages (from matplotlib>=3.1->seaborn) (21.3)\n",
      "Requirement already satisfied: cycler>=0.10 in c:\\users\\lenovo\\appdata\\local\\programs\\python\\python310\\lib\\site-packages (from matplotlib>=3.1->seaborn) (0.11.0)\n",
      "Requirement already satisfied: contourpy>=1.0.1 in c:\\users\\lenovo\\appdata\\local\\programs\\python\\python310\\lib\\site-packages (from matplotlib>=3.1->seaborn) (1.0.5)\n",
      "Requirement already satisfied: pytz>=2020.1 in c:\\users\\lenovo\\appdata\\local\\programs\\python\\python310\\lib\\site-packages (from pandas>=0.25->seaborn) (2022.2.1)\n",
      "Requirement already satisfied: six>=1.5 in c:\\users\\lenovo\\appdata\\roaming\\python\\python310\\site-packages (from python-dateutil>=2.7->matplotlib>=3.1->seaborn) (1.16.0)\n",
      "Installing collected packages: seaborn\n",
      "Successfully installed seaborn-0.12.0\n",
      "Note: you may need to restart the kernel to use updated packages.\n"
     ]
    }
   ],
   "source": [
    "pip install seaborn"
   ]
  }
 ],
 "metadata": {
  "kernelspec": {
   "display_name": "Python 3.10.2 64-bit",
   "language": "python",
   "name": "python3"
  },
  "language_info": {
   "codemirror_mode": {
    "name": "ipython",
    "version": 3
   },
   "file_extension": ".py",
   "mimetype": "text/x-python",
   "name": "python",
   "nbconvert_exporter": "python",
   "pygments_lexer": "ipython3",
   "version": "3.10.2"
  },
  "vscode": {
   "interpreter": {
    "hash": "f2ccb58c476f33ba3e3aee7ac07234ef6b8217ef24ad64d2a7d4fed1a57c1cd2"
   }
  }
 },
 "nbformat": 4,
 "nbformat_minor": 2
}
